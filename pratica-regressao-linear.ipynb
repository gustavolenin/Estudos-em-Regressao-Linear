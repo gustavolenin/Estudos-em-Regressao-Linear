{
 "cells": [
  {
   "cell_type": "code",
   "execution_count": 1,
   "id": "7b274eee",
   "metadata": {
    "_cell_guid": "b1076dfc-b9ad-4769-8c92-a6c4dae69d19",
    "_uuid": "8f2839f25d086af736a60e9eeb907d3b93b6e0e5",
    "execution": {
     "iopub.execute_input": "2022-08-25T17:38:03.890246Z",
     "iopub.status.busy": "2022-08-25T17:38:03.889230Z",
     "iopub.status.idle": "2022-08-25T17:38:05.341160Z",
     "shell.execute_reply": "2022-08-25T17:38:05.339485Z"
    },
    "papermill": {
     "duration": 1.461682,
     "end_time": "2022-08-25T17:38:05.344407",
     "exception": false,
     "start_time": "2022-08-25T17:38:03.882725",
     "status": "completed"
    },
    "tags": []
   },
   "outputs": [],
   "source": [
    "# Este notebook se refere ao artigo: https://medium.com/data-hackers/como-funciona-uma-regress%C3%A3o-linear-f7208fa6c662\n",
    "import numpy as np # linear algebra\n",
    "import pandas as pd # data processing, CSV file I/O (e.g. pd.read_csv)\n",
    "import matplotlib.pyplot as plt\n",
    "from sklearn.linear_model import LinearRegression"
   ]
  },
  {
   "cell_type": "code",
   "execution_count": 2,
   "id": "7a06a3d3",
   "metadata": {
    "execution": {
     "iopub.execute_input": "2022-08-25T17:38:05.353529Z",
     "iopub.status.busy": "2022-08-25T17:38:05.352986Z",
     "iopub.status.idle": "2022-08-25T17:38:05.360309Z",
     "shell.execute_reply": "2022-08-25T17:38:05.359032Z"
    },
    "papermill": {
     "duration": 0.014538,
     "end_time": "2022-08-25T17:38:05.362586",
     "exception": false,
     "start_time": "2022-08-25T17:38:05.348048",
     "status": "completed"
    },
    "tags": []
   },
   "outputs": [],
   "source": [
    "# definindo X e y\n",
    "X = np.array([1.47, 1.5, 1.52, 1.55, 1.57, 1.63, 1.65, 1.68, 1.7, 1.73, 1.78, 1.8, 1.83]).reshape(-1, 1)\n",
    "y = np.array([52.21, 53.12, 57.2, 58.6, 58.57, 59.93, 62, 63.11, 65.4, 66.28, 68.1, 72.19, 80.24])"
   ]
  },
  {
   "cell_type": "code",
   "execution_count": 3,
   "id": "c95daecd",
   "metadata": {
    "execution": {
     "iopub.execute_input": "2022-08-25T17:38:05.371732Z",
     "iopub.status.busy": "2022-08-25T17:38:05.370841Z",
     "iopub.status.idle": "2022-08-25T17:38:05.393764Z",
     "shell.execute_reply": "2022-08-25T17:38:05.392431Z"
    },
    "papermill": {
     "duration": 0.030745,
     "end_time": "2022-08-25T17:38:05.396794",
     "exception": false,
     "start_time": "2022-08-25T17:38:05.366049",
     "status": "completed"
    },
    "tags": []
   },
   "outputs": [],
   "source": [
    "# instanciando do modelo\n",
    "model = LinearRegression()\n",
    "# treinando o modelo\n",
    "model.fit(X, y);"
   ]
  },
  {
   "cell_type": "code",
   "execution_count": 4,
   "id": "a5cb65f0",
   "metadata": {
    "execution": {
     "iopub.execute_input": "2022-08-25T17:38:05.405482Z",
     "iopub.status.busy": "2022-08-25T17:38:05.405012Z",
     "iopub.status.idle": "2022-08-25T17:38:05.412685Z",
     "shell.execute_reply": "2022-08-25T17:38:05.411359Z"
    },
    "papermill": {
     "duration": 0.017421,
     "end_time": "2022-08-25T17:38:05.417590",
     "exception": false,
     "start_time": "2022-08-25T17:38:05.400169",
     "status": "completed"
    },
    "tags": []
   },
   "outputs": [
    {
     "name": "stdout",
     "output_type": "stream",
     "text": [
      "Coeficiente de interceptação: -39.3959\n",
      "Coeficiente de inclinação:    [62.0783]\n"
     ]
    }
   ],
   "source": [
    "# imprimindo o coeficiente que corta o eixo y\n",
    "intercept = model.intercept_\n",
    "print(f'Coeficiente de interceptação: {intercept:.4f}')\n",
    "# imprimindo o coeficiente de inclinação da reta\n",
    "slope = model.coef_\n",
    "print(f'Coeficiente de inclinação:    {slope.round(4)}')"
   ]
  },
  {
   "cell_type": "code",
   "execution_count": 5,
   "id": "21a805ae",
   "metadata": {
    "execution": {
     "iopub.execute_input": "2022-08-25T17:38:05.427931Z",
     "iopub.status.busy": "2022-08-25T17:38:05.427441Z",
     "iopub.status.idle": "2022-08-25T17:38:05.434298Z",
     "shell.execute_reply": "2022-08-25T17:38:05.433028Z"
    },
    "papermill": {
     "duration": 0.014634,
     "end_time": "2022-08-25T17:38:05.436954",
     "exception": false,
     "start_time": "2022-08-25T17:38:05.422320",
     "status": "completed"
    },
    "tags": []
   },
   "outputs": [
    {
     "name": "stdout",
     "output_type": "stream",
     "text": [
      "y = -39.395935775667084 + [62.07833559] * X\n"
     ]
    }
   ],
   "source": [
    "# ficaria assim:\n",
    "print(f\"y = {intercept} + {slope} * X\")"
   ]
  },
  {
   "cell_type": "code",
   "execution_count": 6,
   "id": "8ba1cda8",
   "metadata": {
    "execution": {
     "iopub.execute_input": "2022-08-25T17:38:05.446483Z",
     "iopub.status.busy": "2022-08-25T17:38:05.445866Z",
     "iopub.status.idle": "2022-08-25T17:38:05.453613Z",
     "shell.execute_reply": "2022-08-25T17:38:05.452180Z"
    },
    "papermill": {
     "duration": 0.015414,
     "end_time": "2022-08-25T17:38:05.456214",
     "exception": false,
     "start_time": "2022-08-25T17:38:05.440800",
     "status": "completed"
    },
    "tags": []
   },
   "outputs": [
    {
     "name": "stdout",
     "output_type": "stream",
     "text": [
      "[[51.859217548620535], [53.72156761646315], [54.96313432835821], [56.82548439620082], [58.06705110809588], [61.79175124378109], [63.033317955676154], [64.89566802351877], [66.13723473541384], [67.99958480325644], [71.10350158299411], [72.34506829488919], [74.2074183627318]]\n"
     ]
    }
   ],
   "source": [
    "# criando a equação e prevendo nos dados de X\n",
    "y_pred_eq = intercept + slope * X\n",
    "print(y_pred_eq.tolist())"
   ]
  },
  {
   "cell_type": "code",
   "execution_count": 7,
   "id": "57154513",
   "metadata": {
    "execution": {
     "iopub.execute_input": "2022-08-25T17:38:05.465531Z",
     "iopub.status.busy": "2022-08-25T17:38:05.465047Z",
     "iopub.status.idle": "2022-08-25T17:38:05.473769Z",
     "shell.execute_reply": "2022-08-25T17:38:05.472014Z"
    },
    "papermill": {
     "duration": 0.016337,
     "end_time": "2022-08-25T17:38:05.476171",
     "exception": false,
     "start_time": "2022-08-25T17:38:05.459834",
     "status": "completed"
    },
    "tags": []
   },
   "outputs": [
    {
     "name": "stdout",
     "output_type": "stream",
     "text": [
      "[51.85921755 53.72156762 54.96313433 56.8254844  58.06705111 61.79175124\n",
      " 63.03331796 64.89566802 66.13723474 67.9995848  71.10350158 72.34506829\n",
      " 74.20741836]\n"
     ]
    }
   ],
   "source": [
    "# prevendo com o modelo nos dados de X\n",
    "y_pred_model = model.predict(X)\n",
    "print(y_pred_model)"
   ]
  },
  {
   "cell_type": "code",
   "execution_count": 8,
   "id": "082aeb45",
   "metadata": {
    "execution": {
     "iopub.execute_input": "2022-08-25T17:38:05.485709Z",
     "iopub.status.busy": "2022-08-25T17:38:05.484865Z",
     "iopub.status.idle": "2022-08-25T17:38:05.750538Z",
     "shell.execute_reply": "2022-08-25T17:38:05.749521Z"
    },
    "papermill": {
     "duration": 0.273408,
     "end_time": "2022-08-25T17:38:05.753236",
     "exception": false,
     "start_time": "2022-08-25T17:38:05.479828",
     "status": "completed"
    },
    "tags": []
   },
   "outputs": [
    {
     "data": {
      "image/png": "[encoded data removed]",
      "text/plain": [
       "<Figure size 576x432 with 1 Axes>"
      ]
     },
     "metadata": {
      "needs_background": "light"
     },
     "output_type": "display_data"
    }
   ],
   "source": [
    "# definindo a área de plotagem\n",
    "plt.figure(figsize=(8,6))\n",
    "# definindo o gráfico\n",
    "plt.scatter(X, y,  color='blue')\n",
    "plt.plot(X, model.predict(X), color='red', linewidth=2)\n",
    "# definindo x e y\n",
    "plt.xticks(np.arange(1.40, 1.95, 0.1))\n",
    "plt.yticks([50, 60, 70, 80])\n",
    "# inserindo os rótulos dos eixos\n",
    "plt.xlabel(\"Altura (m)\")\n",
    "plt.ylabel(\"Peso (kg)\")\n",
    "# inserindo o título do gráfico\n",
    "plt.title(\"Demonstração de Regressão Linear\", fontweight=\"bold\", size=15)\n",
    "# plotando o gráfico\n",
    "plt.show()"
   ]
  },
  {
   "cell_type": "code",
   "execution_count": 9,
   "id": "1eac50ed",
   "metadata": {
    "execution": {
     "iopub.execute_input": "2022-08-25T17:38:05.763555Z",
     "iopub.status.busy": "2022-08-25T17:38:05.763060Z",
     "iopub.status.idle": "2022-08-25T17:38:05.771404Z",
     "shell.execute_reply": "2022-08-25T17:38:05.769867Z"
    },
    "papermill": {
     "duration": 0.017256,
     "end_time": "2022-08-25T17:38:05.774510",
     "exception": false,
     "start_time": "2022-08-25T17:38:05.757254",
     "status": "completed"
    },
    "tags": []
   },
   "outputs": [
    {
     "name": "stdout",
     "output_type": "stream",
     "text": [
      "Coeficiente de Determinação: 0.9090813847966402\n"
     ]
    }
   ],
   "source": [
    "# imprimindo o coeficiente de determinação\n",
    "r_squared = model.score(X, y)\n",
    "print(f'Coeficiente de Determinação: {r_squared}')"
   ]
  }
 ],
 "metadata": {
  "kernelspec": {
   "display_name": "Python 3",
   "language": "python",
   "name": "python3"
  },
  "language_info": {
   "codemirror_mode": {
    "name": "ipython",
    "version": 3
   },
   "file_extension": ".py",
   "mimetype": "text/x-python",
   "name": "python",
   "nbconvert_exporter": "python",
   "pygments_lexer": "ipython3",
   "version": "3.7.12"
  },
  "papermill": {
   "default_parameters": {},
   "duration": 13.124229,
   "end_time": "2022-08-25T17:38:06.802643",
   "environment_variables": {},
   "exception": null,
   "input_path": "__notebook__.ipynb",
   "output_path": "__notebook__.ipynb",
   "parameters": {},
   "start_time": "2022-08-25T17:37:53.678414",
   "version": "2.3.4"
  }
 },
 "nbformat": 4,
 "nbformat_minor": 5
}
